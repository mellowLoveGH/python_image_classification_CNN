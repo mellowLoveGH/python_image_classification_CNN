{
  "nbformat": 4,
  "nbformat_minor": 0,
  "metadata": {
    "colab": {
      "name": "DL01.ipynb",
      "provenance": [],
      "collapsed_sections": []
    },
    "kernelspec": {
      "name": "python3",
      "display_name": "Python 3"
    }
  },
  "cells": [
    {
      "cell_type": "code",
      "metadata": {
        "id": "PGdrrEQ9-obc"
      },
      "source": [
        "# https://www.datacamp.com/community/tutorials/deep-learning-python\n",
        "# learning keras"
      ],
      "execution_count": null,
      "outputs": []
    },
    {
      "cell_type": "code",
      "metadata": {
        "id": "GnVpjBF8OUNM"
      },
      "source": [
        "import keras\n",
        "import numpy\n",
        "import pandas\n",
        "import matplotlib\n",
        "import scipy\n",
        "import sklearn"
      ],
      "execution_count": null,
      "outputs": []
    },
    {
      "cell_type": "code",
      "metadata": {
        "id": "emqYOdUCO7wT"
      },
      "source": [
        "# https://www.tutorialspoint.com/keras/keras_deep_learning.htm\n",
        "from keras.models import Sequential \n",
        "from keras.layers import Dense, Activation \n",
        "\n",
        "model = Sequential()  \n",
        "model.add(Dense(512, activation = 'relu', input_shape = (784,)))"
      ],
      "execution_count": null,
      "outputs": []
    },
    {
      "cell_type": "code",
      "metadata": {
        "id": "bqON9HhkPUs0"
      },
      "source": [
        "from keras.models import Sequential \n",
        "from keras.layers import Dense, Activation, Dropout \n",
        "model = Sequential() \n",
        "\n",
        "model.add(Dense(512, activation = 'relu', input_shape = (784,))) \n",
        "model.add(Dropout(0.2))  # dropout layer (Dropout API) to handle over-fitting.\n",
        "model.add(Dense(512, activation = 'relu')) \n",
        "model.add(Dropout(0.2)) \n",
        "num_classes = 512\n",
        "model.add(Dense(num_classes, activation = 'softmax'))"
      ],
      "execution_count": null,
      "outputs": []
    },
    {
      "cell_type": "code",
      "metadata": {
        "colab": {
          "base_uri": "https://localhost:8080/"
        },
        "id": "BKDOwy-1QRat",
        "outputId": "db8ff246-7418-4ac7-e3e7-e42e473fddb1"
      },
      "source": [
        "from keras import backend as k\n",
        "k.backend() \n",
        "k.epsilon() \n",
        "k.image_data_format() \n",
        "k.floatx() \n",
        "k.get_uid(prefix='') \n",
        "k.get_uid(prefix='')\n",
        "k.reset_uids()\n",
        "k.get_uid(prefix='')\n",
        "data = k.placeholder(shape = (1,3,3)) \n",
        "data \n",
        "k.int_shape(data)\n",
        "\n",
        "a = k.placeholder(shape = (4,2)) \n",
        "b = k.placeholder(shape = (2,3)) \n",
        "c = k.dot(a,b)\n",
        "c\n",
        "res = k.ones(shape = (2,2))\n",
        "k.eval(res) "
      ],
      "execution_count": null,
      "outputs": [
        {
          "output_type": "execute_result",
          "data": {
            "text/plain": [
              "array([[1., 1.],\n",
              "       [1., 1.]], dtype=float32)"
            ]
          },
          "metadata": {
            "tags": []
          },
          "execution_count": 28
        }
      ]
    },
    {
      "cell_type": "code",
      "metadata": {
        "id": "lFkB9qCsRDJC"
      },
      "source": [
        "a_batch = k.ones(shape = (2,3))\n",
        "b_batch = k.ones(shape = (3,2)) \n",
        "c_batch = k.batch_dot(a_batch, b_batch) # pip install keras==2.2.4, downgrade version of keras\n"
      ],
      "execution_count": null,
      "outputs": []
    },
    {
      "cell_type": "code",
      "metadata": {
        "id": "c88rNo5_RgMM"
      },
      "source": [
        "import numpy as np\n",
        "\n",
        "data = k.variable([[10,20,30,40],[50,60,70,80]]) \n",
        "result = k.transpose(data) \n",
        "print(result)\n",
        "data = np.array([[10,20,30,40],[50,60,70,80]]) \n",
        "print(np.transpose(data)) \n",
        "res = k.variable(value = data) \n",
        "print(res)"
      ],
      "execution_count": null,
      "outputs": []
    },
    {
      "cell_type": "code",
      "metadata": {
        "id": "TFZBjfbIR9Kc"
      },
      "source": [
        "a = k.placeholder((2, 2), sparse=True) \n",
        "print(a)\n",
        "print(k.is_sparse(a))\n",
        "b = k.to_dense(a)\n",
        "print(b)\n",
        "print(k.is_sparse(b))\n",
        "\n",
        "a = k.random_uniform_variable(shape = (2, 3), low=0, high = 1)\n",
        "b = k. random_uniform_variable(shape = (3,2), low = 0, high = 1)\n",
        "c = k.dot(a, b)\n",
        "k.int_shape(c) "
      ],
      "execution_count": null,
      "outputs": []
    },
    {
      "cell_type": "code",
      "metadata": {
        "id": "bVt5pZ5nSftM"
      },
      "source": [
        "from keras.utils import HDF5Matrix \n",
        "#data = HDF5Matrix('data.hdf5', 'data')\n",
        "\n",
        "from keras.utils import to_categorical \n",
        "labels = [0, 1, 2, 3, 4, 5, 6, 7, 8, 9]\n",
        "to_categorical(labels) \n",
        "\n",
        "from keras.utils import normalize\n",
        "normalize([1, 2, 3, 4, 5]) \n",
        "\n",
        "#from keras.utils import print_summary # no such package\n",
        "#print_summary(model)\n",
        "from keras.utils import plot_model \n",
        "plot_model(model,to_file = 'image.png')"
      ],
      "execution_count": null,
      "outputs": []
    },
    {
      "cell_type": "code",
      "metadata": {
        "id": "F9mKtAM1TQdD"
      },
      "source": [
        "from keras.models import Sequential \n",
        "from keras.layers import Activation, Dense \n",
        "from keras import initializers \n",
        "from keras import regularizers \n",
        "from keras import constraints \n",
        "\n",
        "model = Sequential() \n",
        "\n",
        "# Dense \n",
        "# the number of neurons or units (32) as its required parameter\n",
        "# If the layer is first layer, then we need to provide Input Shape, (16,) as well\n",
        "model.add(Dense(32, input_shape=(16,), kernel_initializer = 'he_uniform',  \n",
        "   kernel_regularizer = None, kernel_constraint = 'MaxNorm', activation = 'relu')) \n",
        "model.add(Dense(16, activation = 'relu')) \n",
        "model.add(Dense(8))"
      ],
      "execution_count": null,
      "outputs": []
    },
    {
      "cell_type": "code",
      "metadata": {
        "id": "ja9sxXmKUCN0"
      },
      "source": [
        "import numpy as np \n",
        "shape = (4, 2) \n",
        "input = np.zeros(shape) \n",
        "print(input) \n",
        "shape = (3, 4, 2) \n",
        "input = np.zeros(shape)\n",
        "print(input)"
      ],
      "execution_count": null,
      "outputs": []
    },
    {
      "cell_type": "code",
      "metadata": {
        "id": "LMHh855eUPwL"
      },
      "source": [
        "from keras.models import Sequential \n",
        "from keras.layers import Activation, Dense \n",
        "from keras import initializers \n",
        "\n",
        "my_init = initializers.Zeros() \n",
        "model = Sequential() \n",
        "model.add(Dense(512, activation = 'relu', input_shape = (784,), kernel_initializer = my_init))"
      ],
      "execution_count": null,
      "outputs": []
    },
    {
      "cell_type": "code",
      "metadata": {
        "id": "lNdOgk0fUdgV"
      },
      "source": [
        "from keras.models import Sequential \n",
        "from keras.layers import Activation, Dense \n",
        "from keras import initializers \n",
        "\n",
        "my_init = initializers.Ones() \n",
        "model.add(Dense(512, activation = 'relu', input_shape = (784,), \n",
        "   kernel_initializer = my_init))"
      ],
      "execution_count": null,
      "outputs": []
    },
    {
      "cell_type": "code",
      "metadata": {
        "id": "qXnyZ_xJUndz"
      },
      "source": [
        "from keras.models import Sequential \n",
        "from keras.layers import Activation, Dense \n",
        "from keras import initializers \n",
        "\n",
        "my_init = initializers.Constant(value = 0) \n",
        "model.add(\n",
        "   Dense(512, activation = 'relu', input_shape = (784,), kernel_initializer = my_init)\n",
        ")"
      ],
      "execution_count": null,
      "outputs": []
    },
    {
      "cell_type": "code",
      "metadata": {
        "id": "pn06fGZ8UxjF"
      },
      "source": [
        "from keras.models import Sequential \n",
        "from keras.layers import Activation, Dense \n",
        "from keras import initializers \n",
        "\n",
        "my_init = initializers.RandomNormal(mean=0.0, \n",
        "stddev = 0.05, seed = None) \n",
        "model.add(Dense(512, activation = 'relu', input_shape = (784,), \n",
        "   kernel_initializer = my_init))"
      ],
      "execution_count": null,
      "outputs": []
    },
    {
      "cell_type": "code",
      "metadata": {
        "id": "tcVChS1sU0DF"
      },
      "source": [
        "from keras import initializers \n",
        "\n",
        "my_init = initializers.RandomUniform(minval = -0.05, maxval = 0.05, seed = None) \n",
        "model.add(Dense(512, activation = 'relu', input_shape = (784,), \n",
        "   kernel_initializer = my_init))"
      ],
      "execution_count": null,
      "outputs": []
    },
    {
      "cell_type": "code",
      "metadata": {
        "id": "OZWqD6-8U-U0"
      },
      "source": [
        "from keras.models import Sequential \n",
        "from keras.layers import Activation, Dense \n",
        "from keras import initializers \n",
        "\n",
        "my_init = initializers.TruncatedNormal(mean = 0.0, stddev = 0.05, seed = None)\n",
        "model.add(Dense(512, activation = 'relu', input_shape = (784,), kernel_initializer = my_init))"
      ],
      "execution_count": null,
      "outputs": []
    },
    {
      "cell_type": "code",
      "metadata": {
        "id": "rWilTXONVMK1"
      },
      "source": [
        "from keras.models import Sequential \n",
        "from keras.layers import Activation, Dense \n",
        "from keras import initializers \n",
        "\n",
        "my_init = initializers.VarianceScaling(scale = 1.0, mode = 'fan_in', distribution = 'normal', seed = None) \n",
        "model.add(Dense(512, activation = 'relu', input_shape = (784,), kernel_initializer = my_init))"
      ],
      "execution_count": null,
      "outputs": []
    },
    {
      "cell_type": "code",
      "metadata": {
        "id": "w31KeioTZyW-"
      },
      "source": [
        "import keras \n",
        "from keras.datasets import mnist \n",
        "from keras.models import Sequential \n",
        "from keras.layers import Dense, Dropout \n",
        "from keras.optimizers import RMSprop \n",
        "import numpy as np \n",
        "\n",
        "(x_train, y_train), (x_test, y_test) = mnist.load_data() \n",
        "\n",
        "x_train = x_train.reshape(60000, 784) \n",
        "x_test = x_test.reshape(10000, 784) \n",
        "x_train = x_train.astype('float32') \n",
        "x_test = x_test.astype('float32') \n",
        "x_train /= 255 \n",
        "x_test /= 255 \n",
        "\n",
        "y_train = keras.utils.to_categorical(y_train, 10) \n",
        "y_test = keras.utils.to_categorical(y_test, 10) \n",
        "\n",
        "model = Sequential() \n",
        "model.add(Dense(512, activation='relu', input_shape = (784,))) \n",
        "model.add(Dropout(0.2)) \n",
        "model.add(Dense(512, activation = 'relu')) \n",
        "model.add(Dropout(0.2)) \n",
        "model.add(Dense(10, activation = 'softmax'))\n",
        "model.compile(loss = 'categorical_crossentropy', \n",
        "   optimizer = RMSprop(), \n",
        "   metrics = ['accuracy']) \n",
        "\n",
        "history = model.fit(x_train, y_train, \n",
        "   batch_size = 128, epochs = 20, verbose = 1, validation_data = (x_test, y_test))"
      ],
      "execution_count": null,
      "outputs": []
    },
    {
      "cell_type": "code",
      "metadata": {
        "id": "ydsPRCtxalbF"
      },
      "source": [
        "score = model.evaluate(x_test, y_test, verbose = 0) \n",
        "\n",
        "print('Test loss:', score[0]) \n",
        "print('Test accuracy:', score[1])\n",
        "\n",
        "pred = model.predict(x_test) \n",
        "pred = np.argmax(pred, axis = 1)[:5] \n",
        "label = np.argmax(y_test,axis = 1)[:5] \n",
        "\n",
        "print(pred) \n",
        "print(label)"
      ],
      "execution_count": null,
      "outputs": []
    },
    {
      "cell_type": "code",
      "metadata": {
        "colab": {
          "base_uri": "https://localhost:8080/"
        },
        "id": "g1ove2IPcPLi",
        "outputId": "3e5bcb7e-6150-4174-e33b-571f8db75bf7"
      },
      "source": [
        "import keras \n",
        "from keras.datasets import mnist \n",
        "from keras.models import Sequential \n",
        "from keras.layers import Dense, Dropout, Flatten \n",
        "from keras.layers import Conv2D, MaxPooling2D \n",
        "from keras import backend as K \n",
        "import numpy as np\n",
        "\n",
        "(x_train, y_train), (x_test, y_test) = mnist.load_data()\n",
        "\n",
        "img_rows, img_cols = 28, 28 \n",
        "\n",
        "if K.image_data_format() == 'channels_first': \n",
        "   x_train = x_train.reshape(x_train.shape[0], 1, img_rows, img_cols) \n",
        "   x_test = x_test.reshape(x_test.shape[0], 1, img_rows, img_cols) \n",
        "   input_shape = (1, img_rows, img_cols) \n",
        "else: \n",
        "   x_train = x_train.reshape(x_train.shape[0], img_rows, img_cols, 1) \n",
        "   x_test = x_test.reshape(x_test.shape[0], img_rows, img_cols, 1) \n",
        "   input_shape = (img_rows, img_cols, 1) \n",
        "   \n",
        "x_train = x_train.astype('float32') \n",
        "x_test = x_test.astype('float32') \n",
        "x_train /= 255 \n",
        "x_test /= 255 \n",
        "\n",
        "y_train = keras.utils.to_categorical(y_train, 10) \n",
        "y_test = keras.utils.to_categorical(y_test, 10)\n",
        "\n",
        "model = Sequential() \n",
        "model.add(Conv2D(32, kernel_size = (3, 3),  \n",
        "   activation = 'relu', input_shape = input_shape)) \n",
        "model.add(Conv2D(64, (3, 3), activation = 'relu')) \n",
        "model.add(MaxPooling2D(pool_size = (2, 2))) \n",
        "model.add(Dropout(0.25)) \n",
        "model.add(Flatten()) \n",
        "model.add(Dense(128, activation = 'relu')) \n",
        "model.add(Dropout(0.5)) \n",
        "model.add(Dense(10, activation = 'softmax'))\n",
        "\n",
        "model.compile(loss = keras.losses.categorical_crossentropy, \n",
        "   optimizer = keras.optimizers.Adadelta(), metrics = ['accuracy'])\n",
        "\n",
        "model.fit(\n",
        "   x_train, y_train, \n",
        "   batch_size = 128, \n",
        "   epochs = 12, \n",
        "   verbose = 1, \n",
        "   validation_data = (x_test, y_test)\n",
        ") "
      ],
      "execution_count": null,
      "outputs": [
        {
          "output_type": "stream",
          "text": [
            "Epoch 1/12\n",
            "469/469 [==============================] - 141s 301ms/step - loss: 2.2877 - accuracy: 0.1341 - val_loss: 2.2500 - val_accuracy: 0.3015\n",
            "Epoch 2/12\n",
            "469/469 [==============================] - 142s 303ms/step - loss: 2.2279 - accuracy: 0.2370 - val_loss: 2.1781 - val_accuracy: 0.4297\n",
            "Epoch 3/12\n",
            "469/469 [==============================] - 142s 303ms/step - loss: 2.1548 - accuracy: 0.3329 - val_loss: 2.0861 - val_accuracy: 0.5599\n",
            "Epoch 4/12\n",
            "469/469 [==============================] - 143s 305ms/step - loss: 2.0562 - accuracy: 0.4238 - val_loss: 1.9597 - val_accuracy: 0.6659\n",
            "Epoch 5/12\n",
            "469/469 [==============================] - 143s 304ms/step - loss: 1.9265 - accuracy: 0.4965 - val_loss: 1.7924 - val_accuracy: 0.7127\n",
            "Epoch 6/12\n",
            "469/469 [==============================] - 143s 304ms/step - loss: 1.7625 - accuracy: 0.5544 - val_loss: 1.5907 - val_accuracy: 0.7385\n",
            "Epoch 7/12\n",
            "469/469 [==============================] - 142s 303ms/step - loss: 1.5844 - accuracy: 0.5944 - val_loss: 1.3781 - val_accuracy: 0.7629\n",
            "Epoch 8/12\n",
            "469/469 [==============================] - 142s 302ms/step - loss: 1.4082 - accuracy: 0.6256 - val_loss: 1.1821 - val_accuracy: 0.7862\n",
            "Epoch 9/12\n",
            "469/469 [==============================] - 141s 302ms/step - loss: 1.2607 - accuracy: 0.6513 - val_loss: 1.0196 - val_accuracy: 0.8020\n",
            "Epoch 10/12\n",
            "469/469 [==============================] - 142s 302ms/step - loss: 1.1392 - accuracy: 0.6755 - val_loss: 0.8916 - val_accuracy: 0.8158\n",
            "Epoch 11/12\n",
            "469/469 [==============================] - 142s 303ms/step - loss: 1.0446 - accuracy: 0.6959 - val_loss: 0.7942 - val_accuracy: 0.8283\n",
            "Epoch 12/12\n",
            "469/469 [==============================] - 141s 301ms/step - loss: 0.9654 - accuracy: 0.7141 - val_loss: 0.7192 - val_accuracy: 0.8392\n"
          ],
          "name": "stdout"
        },
        {
          "output_type": "execute_result",
          "data": {
            "text/plain": [
              "<tensorflow.python.keras.callbacks.History at 0x7f1b12651cf8>"
            ]
          },
          "metadata": {
            "tags": []
          },
          "execution_count": 70
        }
      ]
    },
    {
      "cell_type": "code",
      "metadata": {
        "id": "djUala4ZasDP"
      },
      "source": [
        "score = model.evaluate(x_test, y_test, verbose = 0) \n",
        "\n",
        "print('Test loss:', score[0]) \n",
        "print('Test accuracy:', score[1])\n",
        "\n",
        "pred = model.predict(x_test) \n",
        "pred = np.argmax(pred, axis = 1)[:5] \n",
        "label = np.argmax(y_test,axis = 1)[:5] \n",
        "\n",
        "print(pred) \n",
        "print(label)"
      ],
      "execution_count": null,
      "outputs": []
    },
    {
      "cell_type": "code",
      "metadata": {
        "id": "lfEktSEoc3HN"
      },
      "source": [
        "# Keras - Regression Prediction using MPL\n",
        "# https://www.tutorialspoint.com/keras/keras_regression_prediction_using_mpl.htm\n",
        "\n",
        "# Keras - Time Series Prediction using LSTM RNN\n",
        "# https://www.tutorialspoint.com/keras/keras_time_series_prediction_using_lstm_rnn.htm\n",
        "\n",
        "# Keras - Applications\n",
        "# Loading a model\n",
        "# https://www.tutorialspoint.com/keras/keras_applications.htm\n",
        "\n",
        "# ..."
      ],
      "execution_count": null,
      "outputs": []
    },
    {
      "cell_type": "code",
      "metadata": {
        "colab": {
          "base_uri": "https://localhost:8080/"
        },
        "id": "cjWnEDWU-84z",
        "outputId": "3baf9098-3800-428e-f5a1-abcddb67647c"
      },
      "source": [
        "from keras import layers\n",
        "from keras import models\n",
        "model = models.Sequential()\n",
        "model.add(layers.Conv2D(32, (3, 3), activation='relu', input_shape=(28, 28, 1)))\n",
        "model.add(layers.MaxPooling2D((2, 2)))\n",
        "model.add(layers.Conv2D(64, (3, 3), activation='relu'))\n",
        "model.add(layers.MaxPooling2D((2, 2)))\n",
        "model.add(layers.Conv2D(64, (3, 3), activation='relu'))\n",
        "model.summary()"
      ],
      "execution_count": null,
      "outputs": [
        {
          "output_type": "stream",
          "text": [
            "Model: \"sequential_1\"\n",
            "_________________________________________________________________\n",
            "Layer (type)                 Output Shape              Param #   \n",
            "=================================================================\n",
            "conv2d_3 (Conv2D)            (None, 26, 26, 32)        320       \n",
            "_________________________________________________________________\n",
            "max_pooling2d_2 (MaxPooling2 (None, 13, 13, 32)        0         \n",
            "_________________________________________________________________\n",
            "conv2d_4 (Conv2D)            (None, 11, 11, 64)        18496     \n",
            "_________________________________________________________________\n",
            "max_pooling2d_3 (MaxPooling2 (None, 5, 5, 64)          0         \n",
            "_________________________________________________________________\n",
            "conv2d_5 (Conv2D)            (None, 3, 3, 64)          36928     \n",
            "=================================================================\n",
            "Total params: 55,744\n",
            "Trainable params: 55,744\n",
            "Non-trainable params: 0\n",
            "_________________________________________________________________\n"
          ],
          "name": "stdout"
        }
      ]
    },
    {
      "cell_type": "code",
      "metadata": {
        "id": "mF5upmvk_GAJ"
      },
      "source": [
        "model.add(layers.Flatten())\n",
        "model.add(layers.Dense(64, activation='relu'))\n",
        "model.add(layers.Dense(10, activation='softmax'))\n",
        "model.summary()"
      ],
      "execution_count": null,
      "outputs": []
    }
  ]
}