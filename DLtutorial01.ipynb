{
  "nbformat": 4,
  "nbformat_minor": 0,
  "metadata": {
    "colab": {
      "name": "DLtutorial01.ipynb",
      "provenance": [],
      "collapsed_sections": []
    },
    "kernelspec": {
      "name": "python3",
      "display_name": "Python 3"
    }
  },
  "cells": [
    {
      "cell_type": "code",
      "metadata": {
        "id": "oGbLLi3vNaIr"
      },
      "source": [
        "import tensorflow as tf\n",
        "\n",
        "tf.__version__\n",
        "\n",
        "# load in data\n",
        "# 28*28 size images\n",
        "mnist = tf.keras.datasets.mnist\n",
        "\n",
        "(x_train, y_train), (x_test, y_test) = mnist.load_data()\n",
        "\n",
        "x_train = tf.keras.utils.normalize( x_train, axis=1 )\n",
        "x_test = tf.keras.utils.normalize( x_test, axis=1 )"
      ],
      "execution_count": null,
      "outputs": []
    },
    {
      "cell_type": "code",
      "metadata": {
        "colab": {
          "base_uri": "https://localhost:8080/"
        },
        "id": "zPUrZ4TBTpk8",
        "outputId": "77320310-241e-4db5-8aab-fbfaa8b93028"
      },
      "source": [
        "def binaryData(feature):\n",
        "  nda = []\n",
        "  rows = feature.shape[0]\n",
        "  cols = feature.shape[1]\n",
        "  for x in range(0, cols):\n",
        "    r = []\n",
        "    for y in range(0, rows):\n",
        "      v = feature[x, y]\n",
        "      if np.isnan(v):\n",
        "        v=0\n",
        "        print(\"================\")\n",
        "      if v>0:\n",
        "        v=1\n",
        "      else:\n",
        "        v=0\n",
        "      #v = int(v)\n",
        "      #print(v, end=\" \")\n",
        "      r.append(v)\n",
        "    #print()\n",
        "    nda.append(r)\n",
        "  nda = np.array(nda)\n",
        "  #print( type(nda) )\n",
        "  #print( nda.shape )\n",
        "  return nda\n",
        "\n",
        "def binarySet(tmp_set, size):\n",
        "  empt_array = np.empty((size ,28, 28), int)\n",
        "  for i in range(0, size):\n",
        "    #binaryData( tmp_set[i] )\n",
        "    empt_array[i] = binaryData( tmp_set[i] )\n",
        "  return empt_array\n",
        "\n",
        "size = len(x_train)\n",
        "tmp_train = binarySet( x_train, size )\n",
        "size = len(x_test)\n",
        "tmp_test = binarySet( x_test, size )\n",
        "print( type(x_train[0]) )\n",
        "print( x_train[0].shape )\n",
        "print( type(tmp_train[0]) )\n",
        "print( tmp_train.shape )\n",
        "print( type(x_test[0]) )\n",
        "print( x_test[0].shape )\n",
        "print( type(tmp_test[0]) )\n",
        "print( tmp_test.shape )\n",
        "\n",
        "x_train = tmp_train\n",
        "x_test = tmp_test"
      ],
      "execution_count": null,
      "outputs": [
        {
          "output_type": "stream",
          "text": [
            "<class 'numpy.ndarray'>\n",
            "(28, 28)\n",
            "<class 'numpy.ndarray'>\n",
            "(60000, 28, 28)\n",
            "<class 'numpy.ndarray'>\n",
            "(28, 28)\n",
            "<class 'numpy.ndarray'>\n",
            "(10000, 28, 28)\n"
          ],
          "name": "stdout"
        }
      ]
    },
    {
      "cell_type": "code",
      "metadata": {
        "colab": {
          "base_uri": "https://localhost:8080/"
        },
        "id": "iaoThO8VZpBA",
        "outputId": "9abd1540-21c1-4ab0-cc14-074213ca32e6"
      },
      "source": [
        "# train model\n",
        "model = tf.keras.models.Sequential()\n",
        "model.add(tf.keras.layers.Flatten())\n",
        "model.add(tf.keras.layers.Dense( 128, activation=tf.nn.relu ))\n",
        "model.add(tf.keras.layers.Dense( 128, activation=tf.nn.relu ))\n",
        "model.add(tf.keras.layers.Dense( 10, activation=tf.nn.softmax ))\n",
        "\n",
        "model.compile( optimizer='adam', loss='sparse_categorical_crossentropy', metrics=['accuracy'] )\n",
        "model.fit(x_train, y_train, epochs=3)"
      ],
      "execution_count": null,
      "outputs": [
        {
          "output_type": "stream",
          "text": [
            "Epoch 1/3\n",
            "1875/1875 [==============================] - 4s 2ms/step - loss: 0.4133 - accuracy: 0.8721\n",
            "Epoch 2/3\n",
            "1875/1875 [==============================] - 4s 2ms/step - loss: 0.1184 - accuracy: 0.9628\n",
            "Epoch 3/3\n",
            "1875/1875 [==============================] - 4s 2ms/step - loss: 0.0807 - accuracy: 0.9734\n"
          ],
          "name": "stdout"
        },
        {
          "output_type": "execute_result",
          "data": {
            "text/plain": [
              "<tensorflow.python.keras.callbacks.History at 0x7fd39d3a9128>"
            ]
          },
          "metadata": {
            "tags": []
          },
          "execution_count": 42
        }
      ]
    },
    {
      "cell_type": "code",
      "metadata": {
        "colab": {
          "base_uri": "https://localhost:8080/"
        },
        "id": "XFOf1WK-a6_H",
        "outputId": "2732efa1-c590-4235-db2a-ed64722c3f70"
      },
      "source": [
        "# evaluate\n",
        "val_loss, val_acc = model.evaluate(x_test, y_test)\n",
        "print( val_loss, val_acc )"
      ],
      "execution_count": null,
      "outputs": [
        {
          "output_type": "stream",
          "text": [
            "313/313 [==============================] - 1s 1ms/step - loss: 0.1125 - accuracy: 0.9649\n",
            "0.11254270374774933 0.964900016784668\n"
          ],
          "name": "stdout"
        }
      ]
    },
    {
      "cell_type": "code",
      "metadata": {
        "colab": {
          "base_uri": "https://localhost:8080/"
        },
        "id": "-P9QVV0gb0uh",
        "outputId": "ac890f2d-4b90-45de-ca06-7ed72da37224"
      },
      "source": [
        "# save model\n",
        "model.save('epic_num_reader,model')\n",
        "new_model = tf.keras.models.load_model('epic_num_reader,model')"
      ],
      "execution_count": null,
      "outputs": [
        {
          "output_type": "stream",
          "text": [
            "INFO:tensorflow:Assets written to: epic_num_reader,model/assets\n"
          ],
          "name": "stdout"
        }
      ]
    },
    {
      "cell_type": "code",
      "metadata": {
        "id": "XGi6krClbvHO"
      },
      "source": [
        "import numpy as np\n",
        "\n"
      ],
      "execution_count": null,
      "outputs": []
    },
    {
      "cell_type": "code",
      "metadata": {
        "colab": {
          "base_uri": "https://localhost:8080/",
          "height": 553
        },
        "id": "y1tsh-mTN_SV",
        "outputId": "b72c631c-b27c-43f1-e12c-48a9292a1b5c"
      },
      "source": [
        "print( len(x_train) )\n",
        "print( len(y_train) )\n",
        "tmp1 = x_train[0] # numpy, ndarray\n",
        "print( len(tmp1) )\n",
        "print( tmp1.shape )\n",
        "print( y_train[0] )\n",
        "\n",
        "import matplotlib.pyplot as plt\n",
        "import numpy as np\n",
        "from PIL import Image\n",
        "import cv2\n",
        "\n",
        "def readRGBimg(img_path):\n",
        "  nda = []\n",
        "  img2=cv2.imread( img_path )\n",
        "  print( type(img2) )\n",
        "  #img2 = np.array(img2)\n",
        "  print( img2.shape )\n",
        "  rows = img2.shape[0]\n",
        "  cols = img2.shape[1]\n",
        "  #print( rows )\n",
        "  #print( cols )\n",
        "  for x in range(0, cols):\n",
        "    r = []\n",
        "    for y in range(0, rows):\n",
        "      rgb = img2[x, y]\n",
        "      #v = int((rgb[0] + rgb[1] + rgb[2])/3)\n",
        "      v = int(rgb[0])\n",
        "      v = v + int(rgb[1])\n",
        "      v = v + int(rgb[2])\n",
        "      v = int(v/3)\n",
        "      #print (v)\n",
        "      #print(rgb[0] + rgb[1] + rgb[2])\n",
        "      v = (255 - v)/255\n",
        "      r.append(v)\n",
        "    nda.append(r)\n",
        "  #print(len(nda))\n",
        "  nda = np.array(nda)\n",
        "  print( type(nda) )\n",
        "  print( nda.shape )\n",
        "  return nda\n",
        "\n",
        "nda=readRGBimg(\"test.png\")\n",
        "#print(nda)\n",
        "\n",
        "plt.imshow( nda, cmap=plt.cm.binary )\n",
        "#plt.imshow( x_train[0], cmap=plt.cm.binary )\n",
        "print(nda.shape)\n",
        "print(x_test.shape)\n",
        "\n",
        "print(len(x_test))\n",
        "#predictions = new_model.predict( [x_test] )\n",
        "#print( predictions )\n",
        "empt_array = np.empty((1,28, 28), int)\n",
        "empt_array[0] = nda\n",
        "print(empt_array.shape)\n",
        "predictions = new_model.predict( [empt_array] )\n",
        "print( predictions )\n",
        "\n",
        "print(np.argmax(predictions[0]))"
      ],
      "execution_count": null,
      "outputs": [
        {
          "output_type": "stream",
          "text": [
            "60000\n",
            "60000\n",
            "28\n",
            "(28, 28)\n",
            "5\n",
            "<class 'numpy.ndarray'>\n",
            "(28, 28, 3)\n",
            "<class 'numpy.ndarray'>\n",
            "(28, 28)\n",
            "(28, 28)\n",
            "(10000, 28, 28)\n",
            "10000\n",
            "(1, 28, 28)\n",
            "[[9.9938273e-01 6.4696962e-07 3.5923894e-04 1.0555524e-04 3.5776961e-09\n",
            "  9.4271161e-07 2.4085430e-06 1.5881405e-06 4.6578389e-08 1.4678700e-04]]\n",
            "0\n"
          ],
          "name": "stdout"
        },
        {
          "output_type": "display_data",
          "data": {
            "image/png": "[encoded data removed]",
            "text/plain": [
              "<Figure size 432x288 with 1 Axes>"
            ]
          },
          "metadata": {
            "tags": [],
            "needs_background": "light"
          }
        }
      ]
    },
    {
      "cell_type": "code",
      "metadata": {
        "colab": {
          "base_uri": "https://localhost:8080/",
          "height": 265
        },
        "id": "5WCqU-F-RfvG",
        "outputId": "00a5f921-0b10-4498-aec1-3c9e05cc4da2"
      },
      "source": [
        "plt.imshow(x_train[1], cmap=plt.cm.binary)\n",
        "plt.show()"
      ],
      "execution_count": null,
      "outputs": [
        {
          "output_type": "display_data",
          "data": {
            "image/png": "[encoded data removed]",
            "text/plain": [
              "<Figure size 432x288 with 1 Axes>"
            ]
          },
          "metadata": {
            "tags": [],
            "needs_background": "light"
          }
        }
      ]
    }
  ]
}