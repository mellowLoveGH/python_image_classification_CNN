{
  "nbformat": 4,
  "nbformat_minor": 0,
  "metadata": {
    "colab": {
      "name": "DM02.ipynb",
      "provenance": []
    },
    "kernelspec": {
      "name": "python3",
      "display_name": "Python 3"
    }
  },
  "cells": [
    {
      "cell_type": "code",
      "metadata": {
        "id": "1VaoJm4ZHK-l"
      },
      "source": [
        "import tensorflow as tf \n",
        "from tensorflow import keras\n",
        "import numpy as np \n",
        "import matplotlib.pyplot as plt\n",
        "\n",
        "data = keras.datasets.fashion_mnist\n",
        "(train_images, train_labels), (test_images, test_labels) = data.load_data()"
      ],
      "execution_count": null,
      "outputs": []
    },
    {
      "cell_type": "code",
      "metadata": {
        "id": "5V1WosTJq5Ud"
      },
      "source": [
        "print(type(train_images))\n",
        "print(len(train_images))\n",
        "print(train_images.shape)\n",
        "print()\n",
        "\n",
        "print(type(train_labels))\n",
        "print(len(train_labels))\n",
        "print(train_labels.shape)\n",
        "print()\n",
        "\n",
        "class_names = ['T-shirt/top', 'Trouser', 'Pullover', 'Dress', 'Coat', 'Sandal', 'Shirt', 'Sneaker', 'Bag', 'Ankle boot']\n",
        "\n",
        "print(train_images[0])\n",
        "train_images = train_images/255.0\n",
        "test_images = test_images/255.0\n",
        "\n",
        "print(train_images[0])"
      ],
      "execution_count": null,
      "outputs": []
    },
    {
      "cell_type": "code",
      "metadata": {
        "id": "R3KGXel0saiN"
      },
      "source": [
        "model = keras.Sequential([\n",
        "\tkeras.layers.Flatten(input_shape=(28,28)),\n",
        "\tkeras.layers.Dense(128, activation=\"relu\"),\n",
        "\tkeras.layers.Dense(10, activation=\"softmax\")\n",
        "\t])\n",
        "\n",
        "model.compile(optimizer=\"adam\", loss=\"sparse_categorical_crossentropy\", metrics=[\"accuracy\"])\n",
        "\n",
        "model.fit(train_images, train_labels, epochs=20)"
      ],
      "execution_count": null,
      "outputs": []
    },
    {
      "cell_type": "code",
      "metadata": {
        "id": "pFJW73ausx2U"
      },
      "source": [
        "test_loss, test_acc = model.evaluate(test_images, test_labels)\n",
        "print('\\nTest loss:', test_loss)\n",
        "print('\\nTest accuracy:', test_acc)\n",
        "\n",
        "predictions = model.predict(test_images)\n",
        "\n",
        "plt.figure(figsize=(5,5))\n",
        "for i in range(5):\n",
        "  plt.grid(False)\n",
        "  plt.imshow(test_images[i], cmap=plt.cm.binary)\n",
        "  plt.xlabel(class_names[test_labels[i]])\n",
        "  plt.title(class_names[np.argmax(predictions[i])])\n",
        "  plt.show()"
      ],
      "execution_count": null,
      "outputs": []
    },
    {
      "cell_type": "code",
      "metadata": {
        "id": "zg_jXte2t4bs"
      },
      "source": [
        "#print(test_images.shape)\n",
        "import cv2\n",
        "img = cv2.imread('ts01.png', 0)\n",
        "#img = np.ndarray(img)\n",
        "img = cv2.resize(img, (28,28))\n",
        "img = img.reshape(1, 28, 28)\n",
        "print(type(img))\n",
        "print(img.shape)\n",
        "\n",
        "img = 1 - img / 255\n",
        "pred = model.predict(img)\n",
        "print(pred)\n",
        "print(class_names[ np.argmax( pred[0] ) ] )\n",
        "\n",
        "#print(img[0])\n",
        "def showImg(plt, img):\n",
        "  plt.imshow(img, cmap=plt.cm.binary)\n",
        "  plt.show()\n",
        "\n",
        "showImg(plt, img[0])"
      ],
      "execution_count": null,
      "outputs": []
    },
    {
      "cell_type": "code",
      "metadata": {
        "colab": {
          "base_uri": "https://localhost:8080/"
        },
        "id": "2odFZsIR1KkU",
        "outputId": "dc5d398e-17fe-414e-f3a1-f3231b01b930"
      },
      "source": [
        "# text classification\n",
        "\n",
        "import tensorflow as tf\n",
        "from tensorflow import keras\n",
        "import numpy\n",
        "\n",
        "imdb = keras.datasets.imdb\n",
        "print( type(imdb) )"
      ],
      "execution_count": null,
      "outputs": [
        {
          "output_type": "stream",
          "text": [
            "<class 'module'>\n"
          ],
          "name": "stdout"
        }
      ]
    },
    {
      "cell_type": "code",
      "metadata": {
        "id": "2t4T9L6P1uQi"
      },
      "source": [
        "(train_data, train_labels), (test_data, test_labels) = imdb.load_data(num_words=10000)"
      ],
      "execution_count": null,
      "outputs": []
    },
    {
      "cell_type": "code",
      "metadata": {
        "id": "0V5ZDjr91-Pq"
      },
      "source": [
        "print( type(train_data) )\n",
        "print( len(train_data) )\n",
        "print( train_data[0] )\n",
        "print()\n",
        "\n",
        "print( type(train_labels) )\n",
        "print( len(train_labels) )\n",
        "print()\n",
        "\n",
        "print( type(test_data) )\n",
        "print( len(test_data) )\n",
        "print()\n",
        "\n",
        "print( type(test_labels) )\n",
        "print( len(test_labels) )\n",
        "print()\n",
        "\n",
        "_word_index = imdb.get_word_index()\n",
        "print( type(_word_index) )\n",
        "print( len(_word_index) )\n",
        "\n",
        "word_index = {k:(v+3) for k,v in _word_index.items()}\n",
        "word_index[\"<PAD>\"] = 0\n",
        "word_index[\"<START>\"] = 1\n",
        "word_index[\"<UNK>\"] = 2  # unknown\n",
        "word_index[\"<UNUSED>\"] = 3\n",
        "\n",
        "reverse_word_index = {}\n",
        "for k, v in word_index.items():\n",
        "  reverse_word_index[v] = k\n",
        "\n",
        "def decode_review(text, reverse_word_index):\n",
        "  movie = \"\"\n",
        "  for i in text:\n",
        "    movie = movie + reverse_word_index[i] + \" \"\n",
        "  return movie\n",
        "\n",
        "print( decode_review(train_data[0], reverse_word_index) )"
      ],
      "execution_count": null,
      "outputs": []
    },
    {
      "cell_type": "code",
      "metadata": {
        "id": "bgSicybs41s7"
      },
      "source": [
        "# pre-process\n",
        "\n",
        "train_data = keras.preprocessing.sequence.pad_sequences(train_data, value=word_index[\"<PAD>\"], padding=\"post\", maxlen=250)\n",
        "test_data = keras.preprocessing.sequence.pad_sequences(test_data, value=word_index[\"<PAD>\"], padding=\"post\", maxlen=250)\n",
        "\n"
      ],
      "execution_count": null,
      "outputs": []
    },
    {
      "cell_type": "code",
      "metadata": {
        "id": "EwnkWkr65Lui"
      },
      "source": [
        "model = keras.Sequential()\n",
        "model.add(keras.layers.Embedding(88000, 16))\n",
        "model.add(keras.layers.GlobalAveragePooling1D())\n",
        "model.add(keras.layers.Dense(16, activation=\"relu\"))\n",
        "model.add(keras.layers.Dense(1, activation=\"sigmoid\"))\n",
        "\n",
        "model.summary()  # prints a summary of the model"
      ],
      "execution_count": null,
      "outputs": []
    },
    {
      "cell_type": "code",
      "metadata": {
        "id": "0Nuyvpz_7IVO"
      },
      "source": [
        "# \n",
        "x_val = train_data[:10000]\n",
        "x_train = train_data[10000:]\n",
        "\n",
        "y_val = train_labels[:10000]\n",
        "y_train = train_labels[10000:]\n",
        "\n",
        "model.compile(optimizer='adam', loss='binary_crossentropy', metrics=['accuracy'])\n",
        "fitModel = model.fit(x_train, y_train, epochs=40, batch_size=512, validation_data=(x_val, y_val), verbose=1)\n",
        "\n",
        "results = model.evaluate(test_data, test_labels)\n",
        "print(results)"
      ],
      "execution_count": null,
      "outputs": []
    },
    {
      "cell_type": "code",
      "metadata": {
        "id": "tsCLy1Kn7xTt"
      },
      "source": [
        "model.save(\"model.h5\")\n",
        "model = keras.models.load_model(\"model.h5\")\n",
        "\n"
      ],
      "execution_count": null,
      "outputs": []
    },
    {
      "cell_type": "code",
      "metadata": {
        "colab": {
          "base_uri": "https://localhost:8080/"
        },
        "id": "7AkbL0wA8xJC",
        "outputId": "da100b52-313b-4b12-b529-f6462e305413"
      },
      "source": [
        "def review_encode(s, word_index):\n",
        "  s = s.split(' ')\n",
        "  encoded = [1]\n",
        "  for word in s:\n",
        "    if word.lower() in word_index:\n",
        "      encoded.append(word_index[word.lower()])\n",
        "    else:\n",
        "      encoded.append(2)\n",
        "  encoded = [encoded]\n",
        "  encoded = keras.preprocessing.sequence.pad_sequences(encode, value=word_index[\"<PAD>\"], padding=\"post\", maxlen=250)\n",
        "  return encoded\n",
        "\n",
        "\n",
        "text_id = 8\n",
        "\n",
        "s = \"this film was just brilliant casting location scenery story direction everyone's really suited \"\n",
        "s = decode_review(train_data[text_id], reverse_word_index)\n",
        "encode = review_encode(s, word_index)\n",
        "\n",
        "print(len(s))\n",
        "print(type(encode))\n",
        "print(encode.shape)\n",
        "\n",
        "predict = model.predict(encode)\n",
        "print( predict[0] )\n",
        "print(train_labels[text_id])\n"
      ],
      "execution_count": null,
      "outputs": [
        {
          "output_type": "stream",
          "text": [
            "1301\n",
            "<class 'numpy.ndarray'>\n",
            "(1, 250)\n",
            "[0.45309678]\n",
            "1\n"
          ],
          "name": "stdout"
        }
      ]
    }
  ]
}